{
 "cells": [
  {
   "cell_type": "markdown",
   "id": "4b1de659",
   "metadata": {},
   "source": [
    "# Introduction\n",
    "\n",
    "## Data\n",
    "The data used in this visualization project was sourced from Statistics Canada, Table 18-10-0003-01  Inter-city indexes of price differentials of consumer goods and services, annual. It is data set of indexed price differentials in consumer goods and services by Canadian metro area. The complete data set can be found at the following link: https://www150.statcan.gc.ca/t1/tbl1/en/tv.action?pid=1810000301&cubeTimeFrame.startYear=2010&cubeTimeFrame.endYear=2019&referencePeriods=20100101%2C20190101\n",
    "\n",
    "## Goals\n",
    "The goal of this visualization is to simplify the understanding of inflation rates over time and between metro areas for interested lay-people. Ideally, the visualization will be able to allow users to grasp the overall levels of cost of living between Canadian metros, and see the relative trends of inflation on consumer goods and services over time and between areas. A subsequent goal of the visualization is to prompt users to think about additional follow on questions of interest, such as do these trends effect all socio-economic groups equally? Are the trends cyclic or acute?, etc. \n",
    "\n",
    "## Tasks\n",
    "\n"
   ]
  },
  {
   "cell_type": "markdown",
   "id": "264b2c79",
   "metadata": {},
   "source": [
    "# Implementation"
   ]
  },
  {
   "cell_type": "code",
   "execution_count": null,
   "id": "cb7a7087",
   "metadata": {},
   "outputs": [],
   "source": [
    "import pandas as pd\n",
    "import altair as alt\n",
    "\n",
    "CPI_df = pd.read_csv(\"C:\\\\Users\\dm2ba\\Documents\\MSDS\\Course 4 - Fundamentals of Data Visualization\")\n",
    "\n"
   ]
  },
  {
   "cell_type": "markdown",
   "id": "117901f9",
   "metadata": {},
   "source": [
    "# Summary of key elements"
   ]
  },
  {
   "cell_type": "code",
   "execution_count": null,
   "id": "6ac8426f",
   "metadata": {},
   "outputs": [],
   "source": []
  }
 ],
 "metadata": {
  "kernelspec": {
   "display_name": "Python 3 (ipykernel)",
   "language": "python",
   "name": "python3"
  },
  "language_info": {
   "codemirror_mode": {
    "name": "ipython",
    "version": 3
   },
   "file_extension": ".py",
   "mimetype": "text/x-python",
   "name": "python",
   "nbconvert_exporter": "python",
   "pygments_lexer": "ipython3",
   "version": "3.9.13"
  }
 },
 "nbformat": 4,
 "nbformat_minor": 5
}
